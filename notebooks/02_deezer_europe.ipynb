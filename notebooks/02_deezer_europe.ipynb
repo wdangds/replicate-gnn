{
 "cells": [
  {
   "cell_type": "markdown",
   "id": "f4e41c9b",
   "metadata": {},
   "source": [
    "## Deezer Europe Analysis by GCN"
   ]
  },
  {
   "cell_type": "markdown",
   "id": "06196098",
   "metadata": {},
   "source": [
    "Now, we move to the Deezer Europe dataset, a non-benchmark social network dataset of Deezer users which was collected from the public API in March 2020. Nodes are Deezer users from European countries and edges are mutual follower relationships between them. The vertex features are extracted based on the artists liked by the users. The task related to the graph is binary node classification - one has to predict the gender of users."
   ]
  }
 ],
 "metadata": {
  "kernelspec": {
   "display_name": "venv",
   "language": "python",
   "name": "python3"
  },
  "language_info": {
   "codemirror_mode": {
    "name": "ipython",
    "version": 3
   },
   "file_extension": ".py",
   "mimetype": "text/x-python",
   "name": "python",
   "nbconvert_exporter": "python",
   "pygments_lexer": "ipython3",
   "version": "3.11.14"
  }
 },
 "nbformat": 4,
 "nbformat_minor": 5
}
